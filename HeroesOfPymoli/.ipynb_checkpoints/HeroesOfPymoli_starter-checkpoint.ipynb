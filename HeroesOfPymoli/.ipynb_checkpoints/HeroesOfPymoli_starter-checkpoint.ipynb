{
 "cells": [
  {
   "cell_type": "markdown",
   "metadata": {},
   "source": [
    "##  Heroes of Pymoli (Fantasy Game)"
   ]
  },
  {
   "cell_type": "code",
   "execution_count": 1,
   "metadata": {
    "scrolled": true
   },
   "outputs": [
    {
     "data": {
      "text/html": [
       "<div>\n",
       "<style scoped>\n",
       "    .dataframe tbody tr th:only-of-type {\n",
       "        vertical-align: middle;\n",
       "    }\n",
       "\n",
       "    .dataframe tbody tr th {\n",
       "        vertical-align: top;\n",
       "    }\n",
       "\n",
       "    .dataframe thead th {\n",
       "        text-align: right;\n",
       "    }\n",
       "</style>\n",
       "<table border=\"1\" class=\"dataframe\">\n",
       "  <thead>\n",
       "    <tr style=\"text-align: right;\">\n",
       "      <th></th>\n",
       "      <th>Purchase ID</th>\n",
       "      <th>SN</th>\n",
       "      <th>Age</th>\n",
       "      <th>Gender</th>\n",
       "      <th>Item ID</th>\n",
       "      <th>Item Name</th>\n",
       "      <th>Price</th>\n",
       "    </tr>\n",
       "  </thead>\n",
       "  <tbody>\n",
       "    <tr>\n",
       "      <th>0</th>\n",
       "      <td>0</td>\n",
       "      <td>Lisim78</td>\n",
       "      <td>20</td>\n",
       "      <td>Male</td>\n",
       "      <td>108</td>\n",
       "      <td>Extraction, Quickblade Of Trembling Hands</td>\n",
       "      <td>3.53</td>\n",
       "    </tr>\n",
       "    <tr>\n",
       "      <th>1</th>\n",
       "      <td>1</td>\n",
       "      <td>Lisovynya38</td>\n",
       "      <td>40</td>\n",
       "      <td>Male</td>\n",
       "      <td>143</td>\n",
       "      <td>Frenzied Scimitar</td>\n",
       "      <td>1.56</td>\n",
       "    </tr>\n",
       "    <tr>\n",
       "      <th>2</th>\n",
       "      <td>2</td>\n",
       "      <td>Ithergue48</td>\n",
       "      <td>24</td>\n",
       "      <td>Male</td>\n",
       "      <td>92</td>\n",
       "      <td>Final Critic</td>\n",
       "      <td>4.88</td>\n",
       "    </tr>\n",
       "    <tr>\n",
       "      <th>3</th>\n",
       "      <td>3</td>\n",
       "      <td>Chamassasya86</td>\n",
       "      <td>24</td>\n",
       "      <td>Male</td>\n",
       "      <td>100</td>\n",
       "      <td>Blindscythe</td>\n",
       "      <td>3.27</td>\n",
       "    </tr>\n",
       "    <tr>\n",
       "      <th>4</th>\n",
       "      <td>4</td>\n",
       "      <td>Iskosia90</td>\n",
       "      <td>23</td>\n",
       "      <td>Male</td>\n",
       "      <td>131</td>\n",
       "      <td>Fury</td>\n",
       "      <td>1.44</td>\n",
       "    </tr>\n",
       "  </tbody>\n",
       "</table>\n",
       "</div>"
      ],
      "text/plain": [
       "   Purchase ID             SN  Age Gender  Item ID  \\\n",
       "0            0        Lisim78   20   Male      108   \n",
       "1            1    Lisovynya38   40   Male      143   \n",
       "2            2     Ithergue48   24   Male       92   \n",
       "3            3  Chamassasya86   24   Male      100   \n",
       "4            4      Iskosia90   23   Male      131   \n",
       "\n",
       "                                   Item Name  Price  \n",
       "0  Extraction, Quickblade Of Trembling Hands   3.53  \n",
       "1                          Frenzied Scimitar   1.56  \n",
       "2                               Final Critic   4.88  \n",
       "3                                Blindscythe   3.27  \n",
       "4                                       Fury   1.44  "
      ]
     },
     "execution_count": 1,
     "metadata": {},
     "output_type": "execute_result"
    }
   ],
   "source": [
    "# Dependencies and Setup\n",
    "import pandas as pd\n",
    "import numpy as np\n",
    "\n",
    "# File to Load (Remember to Change These)\n",
    "file_to_load = \"Resources/purchase_data.csv\"\n",
    "\n",
    "# Read Purchasing File and store into Pandas data frame\n",
    "purchase_data = pd.read_csv(file_to_load)\n",
    "purchase_data.head()"
   ]
  },
  {
   "cell_type": "markdown",
   "metadata": {},
   "source": [
    "## Player Count"
   ]
  },
  {
   "cell_type": "markdown",
   "metadata": {},
   "source": [
    "\n"
   ]
  },
  {
   "cell_type": "code",
   "execution_count": 3,
   "metadata": {},
   "outputs": [
    {
     "data": {
      "text/html": [
       "<div>\n",
       "<style scoped>\n",
       "    .dataframe tbody tr th:only-of-type {\n",
       "        vertical-align: middle;\n",
       "    }\n",
       "\n",
       "    .dataframe tbody tr th {\n",
       "        vertical-align: top;\n",
       "    }\n",
       "\n",
       "    .dataframe thead th {\n",
       "        text-align: right;\n",
       "    }\n",
       "</style>\n",
       "<table border=\"1\" class=\"dataframe\">\n",
       "  <thead>\n",
       "    <tr style=\"text-align: right;\">\n",
       "      <th></th>\n",
       "      <th>Total Players</th>\n",
       "    </tr>\n",
       "  </thead>\n",
       "  <tbody>\n",
       "    <tr>\n",
       "      <th>0</th>\n",
       "      <td>576</td>\n",
       "    </tr>\n",
       "  </tbody>\n",
       "</table>\n",
       "</div>"
      ],
      "text/plain": [
       "  Total Players\n",
       "0           576"
      ]
     },
     "execution_count": 3,
     "metadata": {},
     "output_type": "execute_result"
    }
   ],
   "source": [
    "tot = len(purchase_data[\"SN\"].value_counts())\n",
    "player_count = pd.DataFrame({\"Total Players\":str(tot)},index = [0])\n",
    "player_count\n"
   ]
  },
  {
   "cell_type": "markdown",
   "metadata": {},
   "source": [
    "## Purchasing Analysis (Total)"
   ]
  },
  {
   "cell_type": "code",
   "execution_count": 12,
   "metadata": {
    "scrolled": true
   },
   "outputs": [
    {
     "data": {
      "text/html": [
       "<style  type=\"text/css\" >\n",
       "</style><table id=\"T_0590cf7a_2f5a_11ea_a5cf_8c859092d43a\" ><thead>    <tr>        <th class=\"blank level0\" ></th>        <th class=\"col_heading level0 col0\" >Number of Unique Items</th>        <th class=\"col_heading level0 col1\" >Average Price</th>        <th class=\"col_heading level0 col2\" >Number of Purchases</th>        <th class=\"col_heading level0 col3\" >Total Revenue</th>    </tr></thead><tbody>\n",
       "                <tr>\n",
       "                        <th id=\"T_0590cf7a_2f5a_11ea_a5cf_8c859092d43alevel0_row0\" class=\"row_heading level0 row0\" >0</th>\n",
       "                        <td id=\"T_0590cf7a_2f5a_11ea_a5cf_8c859092d43arow0_col0\" class=\"data row0 col0\" >183</td>\n",
       "                        <td id=\"T_0590cf7a_2f5a_11ea_a5cf_8c859092d43arow0_col1\" class=\"data row0 col1\" >$3.05</td>\n",
       "                        <td id=\"T_0590cf7a_2f5a_11ea_a5cf_8c859092d43arow0_col2\" class=\"data row0 col2\" >780</td>\n",
       "                        <td id=\"T_0590cf7a_2f5a_11ea_a5cf_8c859092d43arow0_col3\" class=\"data row0 col3\" >$2379.77</td>\n",
       "            </tr>\n",
       "    </tbody></table>"
      ],
      "text/plain": [
       "<pandas.io.formats.style.Styler at 0x119020c18>"
      ]
     },
     "execution_count": 12,
     "metadata": {},
     "output_type": "execute_result"
    }
   ],
   "source": [
    "# Calculations for unique items, average price, purchase count, and revenue\n",
    "no_unique_items = len(purchase_data[\"Item ID\"].value_counts())\n",
    "no_of_purchases = len(purchase_data[\"Purchase ID\"].value_counts())\n",
    "tot_revenue = purchase_data[\"Price\"].sum()\n",
    "avg_price = round(purchase_data[\"Price\"].mean(),2)\n",
    "\n",
    "# Create data frame with obtained values\n",
    "purchasing_analysis = pd.DataFrame({\n",
    "    \"Number of Unique Items\":no_unique_items,\n",
    "    \"Average Price\":avg_price,\n",
    "    \"Number of Purchases\":no_of_purchases,\n",
    "    \"Total Revenue\":tot_revenue \n",
    "}, index=[0])\n",
    "\n",
    "# Format with currency style\n",
    "purchasing_analysis = purchasing_analysis.style.format({\"Average Price\":\"${:.2f}\",\n",
    "                                  \"Total Revenue\": \"${:.2f}\"})\n",
    "purchasing_analysis\n"
   ]
  },
  {
   "cell_type": "markdown",
   "metadata": {},
   "source": [
    "## Gender Demographics"
   ]
  },
  {
   "cell_type": "code",
   "execution_count": 13,
   "metadata": {},
   "outputs": [
    {
     "data": {
      "text/html": [
       "<style  type=\"text/css\" >\n",
       "</style><table id=\"T_138ccf02_2f5a_11ea_a213_8c859092d43a\" ><thead>    <tr>        <th class=\"blank level0\" ></th>        <th class=\"col_heading level0 col0\" >Total Count</th>        <th class=\"col_heading level0 col1\" >Percentage of Players</th>    </tr></thead><tbody>\n",
       "                <tr>\n",
       "                        <th id=\"T_138ccf02_2f5a_11ea_a213_8c859092d43alevel0_row0\" class=\"row_heading level0 row0\" >Male</th>\n",
       "                        <td id=\"T_138ccf02_2f5a_11ea_a213_8c859092d43arow0_col0\" class=\"data row0 col0\" >484</td>\n",
       "                        <td id=\"T_138ccf02_2f5a_11ea_a213_8c859092d43arow0_col1\" class=\"data row0 col1\" >84.03%</td>\n",
       "            </tr>\n",
       "            <tr>\n",
       "                        <th id=\"T_138ccf02_2f5a_11ea_a213_8c859092d43alevel0_row1\" class=\"row_heading level0 row1\" >Female</th>\n",
       "                        <td id=\"T_138ccf02_2f5a_11ea_a213_8c859092d43arow1_col0\" class=\"data row1 col0\" >81</td>\n",
       "                        <td id=\"T_138ccf02_2f5a_11ea_a213_8c859092d43arow1_col1\" class=\"data row1 col1\" >14.06%</td>\n",
       "            </tr>\n",
       "            <tr>\n",
       "                        <th id=\"T_138ccf02_2f5a_11ea_a213_8c859092d43alevel0_row2\" class=\"row_heading level0 row2\" >Other / Non-Disclosed</th>\n",
       "                        <td id=\"T_138ccf02_2f5a_11ea_a213_8c859092d43arow2_col0\" class=\"data row2 col0\" >11</td>\n",
       "                        <td id=\"T_138ccf02_2f5a_11ea_a213_8c859092d43arow2_col1\" class=\"data row2 col1\" >1.91%</td>\n",
       "            </tr>\n",
       "    </tbody></table>"
      ],
      "text/plain": [
       "<pandas.io.formats.style.Styler at 0x1083136d8>"
      ]
     },
     "execution_count": 13,
     "metadata": {},
     "output_type": "execute_result"
    }
   ],
   "source": [
    "# Group purchase_data by Gender\n",
    "gender_distr = purchase_data.groupby(\"Gender\")\n",
    "\n",
    "# Count the total of screen names \"SN\" by gender\n",
    "total_count_gender = gender_distr.nunique()[\"SN\"]\n",
    "\n",
    "# Total count by gender and divivde by total players \n",
    "percentage_of_players = total_count_gender / tot\n",
    "\n",
    "# Create data frame with obtained values\n",
    "gender_demographics = pd.DataFrame({\"Total Count\": total_count_gender,\"Percentage of Players\": percentage_of_players})\n",
    "\n",
    "# Format the data frame with no index name in the corner\n",
    "gender_demographics.index.name = None\n",
    "\n",
    "# Format the values sorted by total count in descending order, and two decimal places for the percentage\n",
    "gender_demographics.sort_values([\"Total Count\"], ascending = False).style.format({\"Percentage of Players\":\"{:.2%}\"})\n"
   ]
  },
  {
   "cell_type": "markdown",
   "metadata": {},
   "source": [
    "\n",
    "## Purchasing Analysis (Gender)"
   ]
  },
  {
   "cell_type": "code",
   "execution_count": 6,
   "metadata": {},
   "outputs": [
    {
     "data": {
      "text/html": [
       "<style  type=\"text/css\" >\n",
       "</style><table id=\"T_936ce38c_2f59_11ea_baaa_8c859092d43a\" ><thead>    <tr>        <th class=\"blank level0\" ></th>        <th class=\"col_heading level0 col0\" >Purchase Count</th>        <th class=\"col_heading level0 col1\" >Average Purchase Price</th>        <th class=\"col_heading level0 col2\" >Average Purchase Value</th>        <th class=\"col_heading level0 col3\" >Avg Purchase Total per Person</th>    </tr>    <tr>        <th class=\"index_name level0\" >Gender</th>        <th class=\"blank\" ></th>        <th class=\"blank\" ></th>        <th class=\"blank\" ></th>        <th class=\"blank\" ></th>    </tr></thead><tbody>\n",
       "                <tr>\n",
       "                        <th id=\"T_936ce38c_2f59_11ea_baaa_8c859092d43alevel0_row0\" class=\"row_heading level0 row0\" >Female</th>\n",
       "                        <td id=\"T_936ce38c_2f59_11ea_baaa_8c859092d43arow0_col0\" class=\"data row0 col0\" >113</td>\n",
       "                        <td id=\"T_936ce38c_2f59_11ea_baaa_8c859092d43arow0_col1\" class=\"data row0 col1\" >$3.20</td>\n",
       "                        <td id=\"T_936ce38c_2f59_11ea_baaa_8c859092d43arow0_col2\" class=\"data row0 col2\" >$361.94</td>\n",
       "                        <td id=\"T_936ce38c_2f59_11ea_baaa_8c859092d43arow0_col3\" class=\"data row0 col3\" >$4.47</td>\n",
       "            </tr>\n",
       "            <tr>\n",
       "                        <th id=\"T_936ce38c_2f59_11ea_baaa_8c859092d43alevel0_row1\" class=\"row_heading level0 row1\" >Male</th>\n",
       "                        <td id=\"T_936ce38c_2f59_11ea_baaa_8c859092d43arow1_col0\" class=\"data row1 col0\" >652</td>\n",
       "                        <td id=\"T_936ce38c_2f59_11ea_baaa_8c859092d43arow1_col1\" class=\"data row1 col1\" >$3.02</td>\n",
       "                        <td id=\"T_936ce38c_2f59_11ea_baaa_8c859092d43arow1_col2\" class=\"data row1 col2\" >$1,967.64</td>\n",
       "                        <td id=\"T_936ce38c_2f59_11ea_baaa_8c859092d43arow1_col3\" class=\"data row1 col3\" >$4.07</td>\n",
       "            </tr>\n",
       "            <tr>\n",
       "                        <th id=\"T_936ce38c_2f59_11ea_baaa_8c859092d43alevel0_row2\" class=\"row_heading level0 row2\" >Other / Non-Disclosed</th>\n",
       "                        <td id=\"T_936ce38c_2f59_11ea_baaa_8c859092d43arow2_col0\" class=\"data row2 col0\" >15</td>\n",
       "                        <td id=\"T_936ce38c_2f59_11ea_baaa_8c859092d43arow2_col1\" class=\"data row2 col1\" >$3.35</td>\n",
       "                        <td id=\"T_936ce38c_2f59_11ea_baaa_8c859092d43arow2_col2\" class=\"data row2 col2\" >$50.19</td>\n",
       "                        <td id=\"T_936ce38c_2f59_11ea_baaa_8c859092d43arow2_col3\" class=\"data row2 col3\" >$4.56</td>\n",
       "            </tr>\n",
       "    </tbody></table>"
      ],
      "text/plain": [
       "<pandas.io.formats.style.Styler at 0x1197c46a0>"
      ]
     },
     "execution_count": 6,
     "metadata": {},
     "output_type": "execute_result"
    }
   ],
   "source": [
    "# Count the total purchases by gender \n",
    "purchase_count = gender_distr[\"Purchase ID\"].count()\n",
    "\n",
    "# Average purchase prices by gender\n",
    "avg_purchase_price = gender_distr[\"Price\"].mean()\n",
    "\n",
    "# Average purchase total by gender \n",
    "avg_purchase_total = gender_distr[\"Price\"].sum()\n",
    "\n",
    "# Average purchase total by gender divided by purchase count by unique shoppers\n",
    "avg_purchase_per_person = avg_purchase_total/total_count_gender\n",
    "\n",
    "# Create data frame with obtained values \n",
    "gender_purchasing_analysis = pd.DataFrame({\"Purchase Count\": purchase_count, \n",
    "                                    \"Average Purchase Price\": avg_purchase_price,\n",
    "                                    \"Average Purchase Value\":avg_purchase_total,\n",
    "                                    \"Avg Purchase Total per Person\": avg_purchase_per_person})\n",
    "\n",
    "# Provide index in top left as \"Gender\"\n",
    "gender_purchasing_analysis.index.name = \"Gender\"\n",
    "\n",
    "# Format with currency style\n",
    "gender_purchasing_analysis.style.format({\"Average Purchase Value\":\"${:,.2f}\",\n",
    "                                  \"Average Purchase Price\":\"${:,.2f}\",\n",
    "                                  \"Avg Purchase Total per Person\":\"${:,.2f}\"})\n"
   ]
  },
  {
   "cell_type": "markdown",
   "metadata": {},
   "source": [
    "## Age Demographics"
   ]
  },
  {
   "cell_type": "code",
   "execution_count": 25,
   "metadata": {},
   "outputs": [
    {
     "data": {
      "text/html": [
       "<div>\n",
       "<style scoped>\n",
       "    .dataframe tbody tr th:only-of-type {\n",
       "        vertical-align: middle;\n",
       "    }\n",
       "\n",
       "    .dataframe tbody tr th {\n",
       "        vertical-align: top;\n",
       "    }\n",
       "\n",
       "    .dataframe thead th {\n",
       "        text-align: right;\n",
       "    }\n",
       "</style>\n",
       "<table border=\"1\" class=\"dataframe\">\n",
       "  <thead>\n",
       "    <tr style=\"text-align: right;\">\n",
       "      <th></th>\n",
       "      <th>Total Count</th>\n",
       "      <th>Percentage of Players</th>\n",
       "    </tr>\n",
       "  </thead>\n",
       "  <tbody>\n",
       "    <tr>\n",
       "      <th>Under 10</th>\n",
       "      <td>17</td>\n",
       "      <td>0.029514</td>\n",
       "    </tr>\n",
       "    <tr>\n",
       "      <th>10-14</th>\n",
       "      <td>22</td>\n",
       "      <td>0.038194</td>\n",
       "    </tr>\n",
       "    <tr>\n",
       "      <th>15-19</th>\n",
       "      <td>107</td>\n",
       "      <td>0.185764</td>\n",
       "    </tr>\n",
       "    <tr>\n",
       "      <th>20-24</th>\n",
       "      <td>258</td>\n",
       "      <td>0.447917</td>\n",
       "    </tr>\n",
       "    <tr>\n",
       "      <th>25-29</th>\n",
       "      <td>77</td>\n",
       "      <td>0.133681</td>\n",
       "    </tr>\n",
       "    <tr>\n",
       "      <th>30-34</th>\n",
       "      <td>52</td>\n",
       "      <td>0.090278</td>\n",
       "    </tr>\n",
       "    <tr>\n",
       "      <th>35-39</th>\n",
       "      <td>31</td>\n",
       "      <td>0.053819</td>\n",
       "    </tr>\n",
       "    <tr>\n",
       "      <th>Over 40</th>\n",
       "      <td>12</td>\n",
       "      <td>0.020833</td>\n",
       "    </tr>\n",
       "  </tbody>\n",
       "</table>\n",
       "</div>"
      ],
      "text/plain": [
       "          Total Count  Percentage of Players\n",
       "Under 10           17               0.029514\n",
       "10-14              22               0.038194\n",
       "15-19             107               0.185764\n",
       "20-24             258               0.447917\n",
       "25-29              77               0.133681\n",
       "30-34              52               0.090278\n",
       "35-39              31               0.053819\n",
       "Over 40            12               0.020833"
      ]
     },
     "execution_count": 25,
     "metadata": {},
     "output_type": "execute_result"
    }
   ],
   "source": [
    "# Create the bins in which Data will be held\n",
    "bins = [0, 9, 14, 19, 24, 29, 34, 39,purchase_data[\"Age\"].max()]\n",
    "\n",
    "# Create the names for the eight bins\n",
    "group_names = [\"Under 10\", \"10-14\", \"15-19\", \"20-24\", \"25-29\", \"30-34\",\"35-39\",\"Over 40\"]\n",
    "\n",
    "# Establish bins for ages\n",
    "purchase_data[\"Age Ranges\"] = pd.cut(purchase_data[\"Age\"], bins, labels=group_names)\n",
    "age_group = purchase_data.groupby([\"Age Ranges\"])\n",
    "\n",
    "# Count the total of screen names \"SN\" by age group\n",
    "age_count = age_group.nunique()[\"SN\"]\n",
    "\n",
    "# Total count by age group \n",
    "sum_age_count = age_count.sum()\n",
    "\n",
    "# Percentage of players by age group\n",
    "percent_of_players = age_count / sum_age_count\n",
    "\n",
    "# Creating the DataFrame\n",
    "age_demographics = pd.DataFrame({\"Total Count\": age_count, \n",
    "                                 \"Percentage of Players\": percent_of_players})\n",
    "age_demographics.head().style.format({\"Percentage of Players\":\"{:,.2%}\"})\n",
    "age_demographics.index.name = None\n",
    "age_demographics\n",
    "\n"
   ]
  },
  {
   "cell_type": "markdown",
   "metadata": {},
   "source": [
    "## Purchasing Analysis (Age)"
   ]
  },
  {
   "cell_type": "code",
   "execution_count": 26,
   "metadata": {},
   "outputs": [
    {
     "data": {
      "text/html": [
       "<style  type=\"text/css\" >\n",
       "</style><table id=\"T_a8819c3a_2f5c_11ea_bb0a_8c859092d43a\" ><thead>    <tr>        <th class=\"blank level0\" ></th>        <th class=\"col_heading level0 col0\" >Purchase Count</th>        <th class=\"col_heading level0 col1\" >Average Purchase Price</th>        <th class=\"col_heading level0 col2\" >Average Purchase Value</th>        <th class=\"col_heading level0 col3\" >Avg Purchase Total per Person</th>    </tr>    <tr>        <th class=\"index_name level0\" >Age Ranges</th>        <th class=\"blank\" ></th>        <th class=\"blank\" ></th>        <th class=\"blank\" ></th>        <th class=\"blank\" ></th>    </tr></thead><tbody>\n",
       "                <tr>\n",
       "                        <th id=\"T_a8819c3a_2f5c_11ea_bb0a_8c859092d43alevel0_row0\" class=\"row_heading level0 row0\" >Under 10</th>\n",
       "                        <td id=\"T_a8819c3a_2f5c_11ea_bb0a_8c859092d43arow0_col0\" class=\"data row0 col0\" >23</td>\n",
       "                        <td id=\"T_a8819c3a_2f5c_11ea_bb0a_8c859092d43arow0_col1\" class=\"data row0 col1\" >$3.35</td>\n",
       "                        <td id=\"T_a8819c3a_2f5c_11ea_bb0a_8c859092d43arow0_col2\" class=\"data row0 col2\" >$77.13</td>\n",
       "                        <td id=\"T_a8819c3a_2f5c_11ea_bb0a_8c859092d43arow0_col3\" class=\"data row0 col3\" >$4.54</td>\n",
       "            </tr>\n",
       "            <tr>\n",
       "                        <th id=\"T_a8819c3a_2f5c_11ea_bb0a_8c859092d43alevel0_row1\" class=\"row_heading level0 row1\" >10-14</th>\n",
       "                        <td id=\"T_a8819c3a_2f5c_11ea_bb0a_8c859092d43arow1_col0\" class=\"data row1 col0\" >28</td>\n",
       "                        <td id=\"T_a8819c3a_2f5c_11ea_bb0a_8c859092d43arow1_col1\" class=\"data row1 col1\" >$2.96</td>\n",
       "                        <td id=\"T_a8819c3a_2f5c_11ea_bb0a_8c859092d43arow1_col2\" class=\"data row1 col2\" >$82.78</td>\n",
       "                        <td id=\"T_a8819c3a_2f5c_11ea_bb0a_8c859092d43arow1_col3\" class=\"data row1 col3\" >$3.76</td>\n",
       "            </tr>\n",
       "            <tr>\n",
       "                        <th id=\"T_a8819c3a_2f5c_11ea_bb0a_8c859092d43alevel0_row2\" class=\"row_heading level0 row2\" >15-19</th>\n",
       "                        <td id=\"T_a8819c3a_2f5c_11ea_bb0a_8c859092d43arow2_col0\" class=\"data row2 col0\" >136</td>\n",
       "                        <td id=\"T_a8819c3a_2f5c_11ea_bb0a_8c859092d43arow2_col1\" class=\"data row2 col1\" >$3.04</td>\n",
       "                        <td id=\"T_a8819c3a_2f5c_11ea_bb0a_8c859092d43arow2_col2\" class=\"data row2 col2\" >$412.89</td>\n",
       "                        <td id=\"T_a8819c3a_2f5c_11ea_bb0a_8c859092d43arow2_col3\" class=\"data row2 col3\" >$3.86</td>\n",
       "            </tr>\n",
       "            <tr>\n",
       "                        <th id=\"T_a8819c3a_2f5c_11ea_bb0a_8c859092d43alevel0_row3\" class=\"row_heading level0 row3\" >20-24</th>\n",
       "                        <td id=\"T_a8819c3a_2f5c_11ea_bb0a_8c859092d43arow3_col0\" class=\"data row3 col0\" >365</td>\n",
       "                        <td id=\"T_a8819c3a_2f5c_11ea_bb0a_8c859092d43arow3_col1\" class=\"data row3 col1\" >$3.05</td>\n",
       "                        <td id=\"T_a8819c3a_2f5c_11ea_bb0a_8c859092d43arow3_col2\" class=\"data row3 col2\" >$1,114.06</td>\n",
       "                        <td id=\"T_a8819c3a_2f5c_11ea_bb0a_8c859092d43arow3_col3\" class=\"data row3 col3\" >$4.32</td>\n",
       "            </tr>\n",
       "            <tr>\n",
       "                        <th id=\"T_a8819c3a_2f5c_11ea_bb0a_8c859092d43alevel0_row4\" class=\"row_heading level0 row4\" >25-29</th>\n",
       "                        <td id=\"T_a8819c3a_2f5c_11ea_bb0a_8c859092d43arow4_col0\" class=\"data row4 col0\" >101</td>\n",
       "                        <td id=\"T_a8819c3a_2f5c_11ea_bb0a_8c859092d43arow4_col1\" class=\"data row4 col1\" >$2.90</td>\n",
       "                        <td id=\"T_a8819c3a_2f5c_11ea_bb0a_8c859092d43arow4_col2\" class=\"data row4 col2\" >$293.00</td>\n",
       "                        <td id=\"T_a8819c3a_2f5c_11ea_bb0a_8c859092d43arow4_col3\" class=\"data row4 col3\" >$3.81</td>\n",
       "            </tr>\n",
       "    </tbody></table>"
      ],
      "text/plain": [
       "<pandas.io.formats.style.Styler at 0x119918240>"
      ]
     },
     "execution_count": 26,
     "metadata": {},
     "output_type": "execute_result"
    }
   ],
   "source": [
    "# Count the total purchases by age \n",
    "new_age_purchase_count = age_group[\"Purchase ID\"].count()\n",
    "\n",
    "# Average purchase prices by age\n",
    "new_avg_purchase_price = age_group[\"Price\"].mean()\n",
    "\n",
    "# Average purchase total by age \n",
    "new_avg_purchase_total = age_group[\"Price\"].sum()\n",
    "\n",
    "# Average purchase total by age divided by purchase count by unique age group\n",
    "new_avg_purchase_per_person = new_avg_purchase_total/age_count\n",
    "\n",
    "# Create data frame with obtained values \n",
    "age_purchasis_analysis = pd.DataFrame({\"Purchase Count\": new_age_purchase_count, \n",
    "                                        \"Average Purchase Price\": new_avg_purchase_price,\n",
    "                                        \"Average Purchase Value\":new_avg_purchase_total,\n",
    "                                        \"Avg Purchase Total per Person\": new_avg_purchase_per_person})\n",
    "\n",
    "# Provide index in top left as \"Age Ranges\"\n",
    "age_purchasis_analysis.index.name = \"Age Ranges\"\n",
    "\n",
    "# Format with currency style\n",
    "age_purchasis_analysis = age_purchasis_analysis.head().style.format({\n",
    "                                  \"Average Purchase Value\":\"${:,.2f}\",\n",
    "                                  \"Average Purchase Price\":\"${:,.2f}\",\n",
    "                                  \"Avg Purchase Total per Person\":\"${:,.2f}\"})\n",
    "age_purchasis_analysis\n"
   ]
  },
  {
   "cell_type": "markdown",
   "metadata": {},
   "source": [
    "## Top Spenders"
   ]
  },
  {
   "cell_type": "code",
   "execution_count": 27,
   "metadata": {},
   "outputs": [
    {
     "data": {
      "text/html": [
       "<style  type=\"text/css\" >\n",
       "</style><table id=\"T_aae6e82c_2f5c_11ea_ad73_8c859092d43a\" ><thead>    <tr>        <th class=\"blank level0\" ></th>        <th class=\"col_heading level0 col0\" >Purchase Count</th>        <th class=\"col_heading level0 col1\" >Average Purchase Price</th>        <th class=\"col_heading level0 col2\" >Total Purchase Value</th>    </tr>    <tr>        <th class=\"index_name level0\" >SN</th>        <th class=\"blank\" ></th>        <th class=\"blank\" ></th>        <th class=\"blank\" ></th>    </tr></thead><tbody>\n",
       "                <tr>\n",
       "                        <th id=\"T_aae6e82c_2f5c_11ea_ad73_8c859092d43alevel0_row0\" class=\"row_heading level0 row0\" >Lisosia93</th>\n",
       "                        <td id=\"T_aae6e82c_2f5c_11ea_ad73_8c859092d43arow0_col0\" class=\"data row0 col0\" >5</td>\n",
       "                        <td id=\"T_aae6e82c_2f5c_11ea_ad73_8c859092d43arow0_col1\" class=\"data row0 col1\" >$3.79</td>\n",
       "                        <td id=\"T_aae6e82c_2f5c_11ea_ad73_8c859092d43arow0_col2\" class=\"data row0 col2\" >$18.96</td>\n",
       "            </tr>\n",
       "            <tr>\n",
       "                        <th id=\"T_aae6e82c_2f5c_11ea_ad73_8c859092d43alevel0_row1\" class=\"row_heading level0 row1\" >Iral74</th>\n",
       "                        <td id=\"T_aae6e82c_2f5c_11ea_ad73_8c859092d43arow1_col0\" class=\"data row1 col0\" >4</td>\n",
       "                        <td id=\"T_aae6e82c_2f5c_11ea_ad73_8c859092d43arow1_col1\" class=\"data row1 col1\" >$3.40</td>\n",
       "                        <td id=\"T_aae6e82c_2f5c_11ea_ad73_8c859092d43arow1_col2\" class=\"data row1 col2\" >$13.62</td>\n",
       "            </tr>\n",
       "            <tr>\n",
       "                        <th id=\"T_aae6e82c_2f5c_11ea_ad73_8c859092d43alevel0_row2\" class=\"row_heading level0 row2\" >Idastidru52</th>\n",
       "                        <td id=\"T_aae6e82c_2f5c_11ea_ad73_8c859092d43arow2_col0\" class=\"data row2 col0\" >4</td>\n",
       "                        <td id=\"T_aae6e82c_2f5c_11ea_ad73_8c859092d43arow2_col1\" class=\"data row2 col1\" >$3.86</td>\n",
       "                        <td id=\"T_aae6e82c_2f5c_11ea_ad73_8c859092d43arow2_col2\" class=\"data row2 col2\" >$15.45</td>\n",
       "            </tr>\n",
       "            <tr>\n",
       "                        <th id=\"T_aae6e82c_2f5c_11ea_ad73_8c859092d43alevel0_row3\" class=\"row_heading level0 row3\" >Asur53</th>\n",
       "                        <td id=\"T_aae6e82c_2f5c_11ea_ad73_8c859092d43arow3_col0\" class=\"data row3 col0\" >3</td>\n",
       "                        <td id=\"T_aae6e82c_2f5c_11ea_ad73_8c859092d43arow3_col1\" class=\"data row3 col1\" >$2.48</td>\n",
       "                        <td id=\"T_aae6e82c_2f5c_11ea_ad73_8c859092d43arow3_col2\" class=\"data row3 col2\" >$7.44</td>\n",
       "            </tr>\n",
       "            <tr>\n",
       "                        <th id=\"T_aae6e82c_2f5c_11ea_ad73_8c859092d43alevel0_row4\" class=\"row_heading level0 row4\" >Inguron55</th>\n",
       "                        <td id=\"T_aae6e82c_2f5c_11ea_ad73_8c859092d43arow4_col0\" class=\"data row4 col0\" >3</td>\n",
       "                        <td id=\"T_aae6e82c_2f5c_11ea_ad73_8c859092d43arow4_col1\" class=\"data row4 col1\" >$3.70</td>\n",
       "                        <td id=\"T_aae6e82c_2f5c_11ea_ad73_8c859092d43arow4_col2\" class=\"data row4 col2\" >$11.11</td>\n",
       "            </tr>\n",
       "    </tbody></table>"
      ],
      "text/plain": [
       "<pandas.io.formats.style.Styler at 0x11984d828>"
      ]
     },
     "execution_count": 27,
     "metadata": {},
     "output_type": "execute_result"
    }
   ],
   "source": [
    "# Group purchase_data by Serial Number\n",
    "sn_distr = purchase_data.groupby(\"SN\")\n",
    "\n",
    "# Count the total purchases by gender \n",
    "sn_purchase_count = sn_distr[\"Purchase ID\"].count()\n",
    "\n",
    "# Average purchase prices by SN\n",
    "sn_avg_purchase_price = sn_distr[\"Price\"].mean()\n",
    "\n",
    "# Average purchase total by SN divided by purchase count by unique shoppers\n",
    "total_purchase_per_sn = sn_purchase_count * sn_avg_purchase_price\n",
    "\n",
    "# Create data frame with obtained values \n",
    "top_spenders = pd.DataFrame({\"Purchase Count\": sn_purchase_count, \n",
    "                             \"Average Purchase Price\": sn_avg_purchase_price,\n",
    "                             \"Total Purchase Value\":total_purchase_per_sn})\n",
    "\n",
    "# Provide index in top left as \"Gender\"\n",
    "top_spenders.index.name = \"SN\"\n",
    "\n",
    "# Sorting in descending order and formatting with currency style\n",
    "top_spenders = top_spenders.sort_values(\"Purchase Count\",ascending=False).head().style.format(\n",
    "                            {\"Total Purchase Value\":\"${:,.2f}\",\n",
    "                           \"Average Purchase Price\":\"${:,.2f}\"}\n",
    "                            )\n",
    "top_spenders"
   ]
  },
  {
   "cell_type": "markdown",
   "metadata": {},
   "source": [
    "## Most Popular Items"
   ]
  },
  {
   "cell_type": "code",
   "execution_count": 28,
   "metadata": {},
   "outputs": [
    {
     "data": {
      "text/html": [
       "<style  type=\"text/css\" >\n",
       "</style><table id=\"T_abaa8f18_2f5c_11ea_803d_8c859092d43a\" ><thead>    <tr>        <th class=\"blank\" ></th>        <th class=\"blank level0\" ></th>        <th class=\"col_heading level0 col0\" >Purchase Count</th>        <th class=\"col_heading level0 col1\" >Average Purchase Price</th>        <th class=\"col_heading level0 col2\" >Total Purchase Value</th>    </tr>    <tr>        <th class=\"index_name level0\" >Item ID</th>        <th class=\"index_name level1\" >Item Name</th>        <th class=\"blank\" ></th>        <th class=\"blank\" ></th>        <th class=\"blank\" ></th>    </tr></thead><tbody>\n",
       "                <tr>\n",
       "                        <th id=\"T_abaa8f18_2f5c_11ea_803d_8c859092d43alevel0_row0\" class=\"row_heading level0 row0\" >178</th>\n",
       "                        <th id=\"T_abaa8f18_2f5c_11ea_803d_8c859092d43alevel1_row0\" class=\"row_heading level1 row0\" >Oathbreaker, Last Hope of the Breaking Storm</th>\n",
       "                        <td id=\"T_abaa8f18_2f5c_11ea_803d_8c859092d43arow0_col0\" class=\"data row0 col0\" >12</td>\n",
       "                        <td id=\"T_abaa8f18_2f5c_11ea_803d_8c859092d43arow0_col1\" class=\"data row0 col1\" >$4.23</td>\n",
       "                        <td id=\"T_abaa8f18_2f5c_11ea_803d_8c859092d43arow0_col2\" class=\"data row0 col2\" >$50.76</td>\n",
       "            </tr>\n",
       "            <tr>\n",
       "                        <th id=\"T_abaa8f18_2f5c_11ea_803d_8c859092d43alevel0_row1\" class=\"row_heading level0 row1\" >145</th>\n",
       "                        <th id=\"T_abaa8f18_2f5c_11ea_803d_8c859092d43alevel1_row1\" class=\"row_heading level1 row1\" >Fiery Glass Crusader</th>\n",
       "                        <td id=\"T_abaa8f18_2f5c_11ea_803d_8c859092d43arow1_col0\" class=\"data row1 col0\" >9</td>\n",
       "                        <td id=\"T_abaa8f18_2f5c_11ea_803d_8c859092d43arow1_col1\" class=\"data row1 col1\" >$4.58</td>\n",
       "                        <td id=\"T_abaa8f18_2f5c_11ea_803d_8c859092d43arow1_col2\" class=\"data row1 col2\" >$41.22</td>\n",
       "            </tr>\n",
       "            <tr>\n",
       "                        <th id=\"T_abaa8f18_2f5c_11ea_803d_8c859092d43alevel0_row2\" class=\"row_heading level0 row2\" >108</th>\n",
       "                        <th id=\"T_abaa8f18_2f5c_11ea_803d_8c859092d43alevel1_row2\" class=\"row_heading level1 row2\" >Extraction, Quickblade Of Trembling Hands</th>\n",
       "                        <td id=\"T_abaa8f18_2f5c_11ea_803d_8c859092d43arow2_col0\" class=\"data row2 col0\" >9</td>\n",
       "                        <td id=\"T_abaa8f18_2f5c_11ea_803d_8c859092d43arow2_col1\" class=\"data row2 col1\" >$3.53</td>\n",
       "                        <td id=\"T_abaa8f18_2f5c_11ea_803d_8c859092d43arow2_col2\" class=\"data row2 col2\" >$31.77</td>\n",
       "            </tr>\n",
       "            <tr>\n",
       "                        <th id=\"T_abaa8f18_2f5c_11ea_803d_8c859092d43alevel0_row3\" class=\"row_heading level0 row3\" >82</th>\n",
       "                        <th id=\"T_abaa8f18_2f5c_11ea_803d_8c859092d43alevel1_row3\" class=\"row_heading level1 row3\" >Nirvana</th>\n",
       "                        <td id=\"T_abaa8f18_2f5c_11ea_803d_8c859092d43arow3_col0\" class=\"data row3 col0\" >9</td>\n",
       "                        <td id=\"T_abaa8f18_2f5c_11ea_803d_8c859092d43arow3_col1\" class=\"data row3 col1\" >$4.90</td>\n",
       "                        <td id=\"T_abaa8f18_2f5c_11ea_803d_8c859092d43arow3_col2\" class=\"data row3 col2\" >$44.10</td>\n",
       "            </tr>\n",
       "            <tr>\n",
       "                        <th id=\"T_abaa8f18_2f5c_11ea_803d_8c859092d43alevel0_row4\" class=\"row_heading level0 row4\" >19</th>\n",
       "                        <th id=\"T_abaa8f18_2f5c_11ea_803d_8c859092d43alevel1_row4\" class=\"row_heading level1 row4\" >Pursuit, Cudgel of Necromancy</th>\n",
       "                        <td id=\"T_abaa8f18_2f5c_11ea_803d_8c859092d43arow4_col0\" class=\"data row4 col0\" >8</td>\n",
       "                        <td id=\"T_abaa8f18_2f5c_11ea_803d_8c859092d43arow4_col1\" class=\"data row4 col1\" >$1.02</td>\n",
       "                        <td id=\"T_abaa8f18_2f5c_11ea_803d_8c859092d43arow4_col2\" class=\"data row4 col2\" >$8.16</td>\n",
       "            </tr>\n",
       "    </tbody></table>"
      ],
      "text/plain": [
       "<pandas.io.formats.style.Styler at 0x11984d5c0>"
      ]
     },
     "execution_count": 28,
     "metadata": {},
     "output_type": "execute_result"
    }
   ],
   "source": [
    "# Retrieve the Item ID, Item Name, and Item Price columns\n",
    "new_df = purchase_data[[\"Item ID\",\"Item Name\",\"Price\"]]\n",
    "new_df = new_df.rename(columns={\"Price\":\"Item Price\"})\n",
    "\n",
    "# Group new data frame by Item ID and Item Name\n",
    "new_groupby_df = new_df.groupby([\"Item ID\",\"Item Name\"])\n",
    "\n",
    "# Count the total purchases by Item ID and Item Name \n",
    "new_purchase_count = new_groupby_df[\"Item Name\"].count()\n",
    "\n",
    "# Average purchase prices by Item ID and Item Name \n",
    "new_avg_purchase_price = new_groupby_df[\"Item Price\"].mean()\n",
    "\n",
    "# Average purchase total divided by purchase count grouped by Item ID and Item Name \n",
    "total_purchase_per_item = new_purchase_count * new_avg_purchase_price\n",
    "\n",
    "# Create data frame with obtained values \n",
    "popular_items = pd.DataFrame({\"Purchase Count\": new_purchase_count, \n",
    "                             \"Average Purchase Price\": new_avg_purchase_price,\n",
    "                             \"Total Purchase Value\":total_purchase_per_item})\n",
    "\n",
    "# Provide index in top left as \"Item ID\" and \"Item Name\"\n",
    "popular_items.index.name = [\"Item ID\",\"Item Name\"]\n",
    "\n",
    "# Sorting in descending order and formatting with currency style\n",
    "popular_items.sort_values(\"Purchase Count\",ascending=False).head().style.format({\"Total Purchase Value\":\"${:,.2f}\",\n",
    "                           \"Average Purchase Price\":\"${:,.2f}\"})"
   ]
  },
  {
   "cell_type": "markdown",
   "metadata": {},
   "source": [
    "## Most Profitable Items"
   ]
  },
  {
   "cell_type": "code",
   "execution_count": 21,
   "metadata": {
    "scrolled": true
   },
   "outputs": [
    {
     "data": {
      "text/html": [
       "<style  type=\"text/css\" >\n",
       "</style><table id=\"T_2d8480ca_2f5b_11ea_9f8a_8c859092d43a\" ><thead>    <tr>        <th class=\"blank\" ></th>        <th class=\"blank level0\" ></th>        <th class=\"col_heading level0 col0\" >Purchase Count</th>        <th class=\"col_heading level0 col1\" >Average Purchase Price</th>        <th class=\"col_heading level0 col2\" >Total Purchase Value</th>    </tr>    <tr>        <th class=\"index_name level0\" >Item ID</th>        <th class=\"index_name level1\" >Item Name</th>        <th class=\"blank\" ></th>        <th class=\"blank\" ></th>        <th class=\"blank\" ></th>    </tr></thead><tbody>\n",
       "                <tr>\n",
       "                        <th id=\"T_2d8480ca_2f5b_11ea_9f8a_8c859092d43alevel0_row0\" class=\"row_heading level0 row0\" >178</th>\n",
       "                        <th id=\"T_2d8480ca_2f5b_11ea_9f8a_8c859092d43alevel1_row0\" class=\"row_heading level1 row0\" >Oathbreaker, Last Hope of the Breaking Storm</th>\n",
       "                        <td id=\"T_2d8480ca_2f5b_11ea_9f8a_8c859092d43arow0_col0\" class=\"data row0 col0\" >12</td>\n",
       "                        <td id=\"T_2d8480ca_2f5b_11ea_9f8a_8c859092d43arow0_col1\" class=\"data row0 col1\" >$4.23</td>\n",
       "                        <td id=\"T_2d8480ca_2f5b_11ea_9f8a_8c859092d43arow0_col2\" class=\"data row0 col2\" >$50.76</td>\n",
       "            </tr>\n",
       "            <tr>\n",
       "                        <th id=\"T_2d8480ca_2f5b_11ea_9f8a_8c859092d43alevel0_row1\" class=\"row_heading level0 row1\" >82</th>\n",
       "                        <th id=\"T_2d8480ca_2f5b_11ea_9f8a_8c859092d43alevel1_row1\" class=\"row_heading level1 row1\" >Nirvana</th>\n",
       "                        <td id=\"T_2d8480ca_2f5b_11ea_9f8a_8c859092d43arow1_col0\" class=\"data row1 col0\" >9</td>\n",
       "                        <td id=\"T_2d8480ca_2f5b_11ea_9f8a_8c859092d43arow1_col1\" class=\"data row1 col1\" >$4.90</td>\n",
       "                        <td id=\"T_2d8480ca_2f5b_11ea_9f8a_8c859092d43arow1_col2\" class=\"data row1 col2\" >$44.10</td>\n",
       "            </tr>\n",
       "            <tr>\n",
       "                        <th id=\"T_2d8480ca_2f5b_11ea_9f8a_8c859092d43alevel0_row2\" class=\"row_heading level0 row2\" >145</th>\n",
       "                        <th id=\"T_2d8480ca_2f5b_11ea_9f8a_8c859092d43alevel1_row2\" class=\"row_heading level1 row2\" >Fiery Glass Crusader</th>\n",
       "                        <td id=\"T_2d8480ca_2f5b_11ea_9f8a_8c859092d43arow2_col0\" class=\"data row2 col0\" >9</td>\n",
       "                        <td id=\"T_2d8480ca_2f5b_11ea_9f8a_8c859092d43arow2_col1\" class=\"data row2 col1\" >$4.58</td>\n",
       "                        <td id=\"T_2d8480ca_2f5b_11ea_9f8a_8c859092d43arow2_col2\" class=\"data row2 col2\" >$41.22</td>\n",
       "            </tr>\n",
       "            <tr>\n",
       "                        <th id=\"T_2d8480ca_2f5b_11ea_9f8a_8c859092d43alevel0_row3\" class=\"row_heading level0 row3\" >92</th>\n",
       "                        <th id=\"T_2d8480ca_2f5b_11ea_9f8a_8c859092d43alevel1_row3\" class=\"row_heading level1 row3\" >Final Critic</th>\n",
       "                        <td id=\"T_2d8480ca_2f5b_11ea_9f8a_8c859092d43arow3_col0\" class=\"data row3 col0\" >8</td>\n",
       "                        <td id=\"T_2d8480ca_2f5b_11ea_9f8a_8c859092d43arow3_col1\" class=\"data row3 col1\" >$4.88</td>\n",
       "                        <td id=\"T_2d8480ca_2f5b_11ea_9f8a_8c859092d43arow3_col2\" class=\"data row3 col2\" >$39.04</td>\n",
       "            </tr>\n",
       "            <tr>\n",
       "                        <th id=\"T_2d8480ca_2f5b_11ea_9f8a_8c859092d43alevel0_row4\" class=\"row_heading level0 row4\" >103</th>\n",
       "                        <th id=\"T_2d8480ca_2f5b_11ea_9f8a_8c859092d43alevel1_row4\" class=\"row_heading level1 row4\" >Singed Scalpel</th>\n",
       "                        <td id=\"T_2d8480ca_2f5b_11ea_9f8a_8c859092d43arow4_col0\" class=\"data row4 col0\" >8</td>\n",
       "                        <td id=\"T_2d8480ca_2f5b_11ea_9f8a_8c859092d43arow4_col1\" class=\"data row4 col1\" >$4.35</td>\n",
       "                        <td id=\"T_2d8480ca_2f5b_11ea_9f8a_8c859092d43arow4_col2\" class=\"data row4 col2\" >$34.80</td>\n",
       "            </tr>\n",
       "    </tbody></table>"
      ],
      "text/plain": [
       "<pandas.io.formats.style.Styler at 0x11984d7b8>"
      ]
     },
     "execution_count": 21,
     "metadata": {},
     "output_type": "execute_result"
    }
   ],
   "source": [
    "most_profitable = popular_items.sort_values(\"Total Purchase Value\",ascending=False).head().style.format({\"Total Purchase Value\":\"${:,.2f}\",\n",
    "                           \"Average Purchase Price\":\"${:,.2f}\"})\n",
    "most_profitable\n"
   ]
  },
  {
   "cell_type": "code",
   "execution_count": null,
   "metadata": {},
   "outputs": [],
   "source": []
  }
 ],
 "metadata": {
  "anaconda-cloud": {},
  "kernel_info": {
   "name": "python3"
  },
  "kernelspec": {
   "display_name": "Python 3",
   "language": "python",
   "name": "python3"
  },
  "language_info": {
   "codemirror_mode": {
    "name": "ipython",
    "version": 3
   },
   "file_extension": ".py",
   "mimetype": "text/x-python",
   "name": "python",
   "nbconvert_exporter": "python",
   "pygments_lexer": "ipython3",
   "version": "3.6.9"
  },
  "latex_envs": {
   "LaTeX_envs_menu_present": true,
   "autoclose": false,
   "autocomplete": true,
   "bibliofile": "biblio.bib",
   "cite_by": "apalike",
   "current_citInitial": 1,
   "eqLabelWithNumbers": true,
   "eqNumInitial": 1,
   "hotkeys": {
    "equation": "Ctrl-E",
    "itemize": "Ctrl-I"
   },
   "labels_anchors": false,
   "latex_user_defs": false,
   "report_style_numbering": false,
   "user_envs_cfg": false
  },
  "nteract": {
   "version": "0.2.0"
  }
 },
 "nbformat": 4,
 "nbformat_minor": 2
}
